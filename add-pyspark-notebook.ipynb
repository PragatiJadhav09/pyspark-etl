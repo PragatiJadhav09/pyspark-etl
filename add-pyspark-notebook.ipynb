{
 "cells": [
  {
   "cell_type": "code",
   "execution_count": 1,
   "id": "4aec0bde-a0b7-48e2-9c2b-3a1846e28405",
   "metadata": {},
   "outputs": [],
   "source": [
    "from pyspark import SparkContext, SparkConf\n",
    "from pyspark.sql import SparkSession, SQLContext\n",
    "import os"
   ]
  },
  {
   "cell_type": "code",
   "execution_count": 2,
   "id": "0e5ed9b5-0c70-4696-bd64-95d797e5649a",
   "metadata": {},
   "outputs": [],
   "source": [
    "#set Java home\n",
    "os.environ[\"JAVA_HOME\"] = r\"C:\\Program Files\\Java\\jdk-18.0.2.1\""
   ]
  },
  {
   "cell_type": "code",
   "execution_count": 3,
   "id": "f5a99c16-e5d7-4776-b4ef-5cc8b5ab078a",
   "metadata": {},
   "outputs": [],
   "source": [
    "conf = SparkConf() \\\n",
    "    .setAppName(\"Example\") \\\n",
    "    .setMaster(\"local\") \\\n",
    "    .set(\"spark.driver.extraClassPath\",\"C:/pyspark/*\")"
   ]
  },
  {
   "cell_type": "code",
   "execution_count": null,
   "id": "d6bae512-0ffe-4f0a-a4af-8fcff5ea37dd",
   "metadata": {},
   "outputs": [],
   "source": [
    "sc = SparkContext.getOrCreate(conf=conf)\n",
    "spark = SparkSession(sc)\n",
    "spark"
   ]
  },
  {
   "cell_type": "code",
   "execution_count": null,
   "id": "fbc158b7-2ac5-40f3-a296-5cd298578b64",
   "metadata": {},
   "outputs": [],
   "source": [
    "df=spark.read.options(delimiter=\",\", header=True).csv(r\"C:\\Users\\haq\\OneDrive\\Notebooks\\data\\AdvWorksData.csv\")\n",
    "df.show()"
   ]
  },
  {
   "cell_type": "code",
   "execution_count": null,
   "id": "079f7428-2b42-45f5-821e-f0eb3f468c0d",
   "metadata": {},
   "outputs": [],
   "source": [
    "df.printSchema()"
   ]
  },
  {
   "cell_type": "code",
   "execution_count": null,
   "id": "5dff9460-a688-4988-be8e-9643e071cbdc",
   "metadata": {},
   "outputs": [],
   "source": [
    "france = df.filter(df.saleterritory == \"France\").show(truncate=False)"
   ]
  },
  {
   "cell_type": "code",
   "execution_count": null,
   "id": "e49f36e8-ae17-4b09-af47-25a2fa3c6a10",
   "metadata": {},
   "outputs": [],
   "source": [
    "df1 = df[['productcategory','saleterritory','OrderDate','Sales']]\n",
    "df1.show()"
   ]
  },
  {
   "cell_type": "code",
   "execution_count": null,
   "id": "d68d53a1-cfdc-43ac-bb54-05f30af27bc8",
   "metadata": {},
   "outputs": [],
   "source": [
    "saleterritory = df.groupBy('saleterritory').count()\n",
    "print(saleterritory.show())"
   ]
  },
  {
   "cell_type": "code",
   "execution_count": null,
   "id": "d5d51b11-1538-4a6e-b9d3-50df66cd4376",
   "metadata": {},
   "outputs": [],
   "source": [
    "df.createOrReplaceTempView(\"sales\")\n",
    "output =  spark.sql(\"SELECT * from sales where productsubcategory='Caps'\")\n",
    "output.show()"
   ]
  },
  {
   "cell_type": "code",
   "execution_count": null,
   "id": "93cbda85-953a-4c48-9f10-fe6ec9ed1a5e",
   "metadata": {},
   "outputs": [],
   "source": [
    "output = spark.sql('SELECT * from sales WHERE `UnitPrice` > 20 AND OrderQuantity >= 10')\n",
    "output.show()"
   ]
  },
  {
   "cell_type": "code",
   "execution_count": null,
   "id": "cf68b693-485b-405b-93d1-21005cf397b8",
   "metadata": {},
   "outputs": [],
   "source": [
    "output = spark.sql('SELECT COUNT(*) as total, productcategory from sales GROUP BY productcategory')\n",
    "output.show()"
   ]
  },
  {
   "cell_type": "code",
   "execution_count": null,
   "id": "00128c91-5c0a-4f8f-9bc7-9e25e757a2e7",
   "metadata": {},
   "outputs": [],
   "source": [
    "dest_tbl = 'public.\"pyspark_sales_table\"'\n",
    "database = \"AdventureWorks\"\n",
    "password = \"demopass\"#os.environ['PGPASS']\n",
    "user = \"etl\"#os.environ['PGUID']"
   ]
  },
  {
   "cell_type": "code",
   "execution_count": null,
   "id": "1a9e3623-9b5d-448b-8a40-1720cec647bf",
   "metadata": {},
   "outputs": [],
   "source": [
    "df.write.mode(\"overwrite\") \\\n",
    "    .format(\"jdbc\") \\\n",
    "    .option(\"url\", f\"jdbc:postgresql://localhost:5432/{database}\") \\\n",
    "    .option(\"dbtable\", dest_tbl) \\\n",
    "    .option(\"user\", user) \\\n",
    "    .option(\"password\", password) \\\n",
    "    .option(\"driver\",  \"org.postgresql.Driver\") \\\n",
    "    .save()"
   ]
  },
  {
   "cell_type": "code",
   "execution_count": null,
   "id": "128ea853-04ed-4617-8b16-16be8f18873a",
   "metadata": {},
   "outputs": [],
   "source": []
  }
 ],
 "metadata": {
  "kernelspec": {
   "display_name": "Python 3 (ipykernel)",
   "language": "python",
   "name": "python3"
  },
  "language_info": {
   "codemirror_mode": {
    "name": "ipython",
    "version": 3
   },
   "file_extension": ".py",
   "mimetype": "text/x-python",
   "name": "python",
   "nbconvert_exporter": "python",
   "pygments_lexer": "ipython3",
   "version": "3.12.5"
  }
 },
 "nbformat": 4,
 "nbformat_minor": 5
}
