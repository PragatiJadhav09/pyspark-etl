{
 "cells": [
  {
   "cell_type": "code",
   "execution_count": 1,
   "id": "c8f1a92b-2840-48d6-8f67-1ef1fc8ab55c",
   "metadata": {},
   "outputs": [],
   "source": [
    "from pyspark import SparkContext, SparkConf\n",
    "from pyspark.sql import SparkSession, SQLContext\n",
    "import os"
   ]
  },
  {
   "cell_type": "code",
   "execution_count": 3,
   "id": "1fd05db1-90a9-4337-b03c-070546bc5e2f",
   "metadata": {},
   "outputs": [],
   "source": [
    "#set Java home\n",
    "os.environ[\"JAVA_HOME\"] = r\"C:\\Program Files\\Java\\jdk-18.0.2.1\""
   ]
  },
  {
   "cell_type": "code",
   "execution_count": 4,
   "id": "6a224333-1f88-4dce-a128-e24f037a03ca",
   "metadata": {},
   "outputs": [],
   "source": [
    "#start spark session\n",
    "conf = SparkConf() \\\n",
    "    .setAppName(\"Example\") \\\n",
    "    .setMaster(\"local[*]\") \\\n",
    "    .set(\"spark.driver.extraClassPath\",\"G:/pyspark/*\") \\\n",
    "    .set('spark.executor.extraClassPath', 'G:/pyspark/*')"
   ]
  },
  {
   "cell_type": "code",
   "execution_count": null,
   "id": "35edf498-61d9-4d51-b056-df0207e7faa5",
   "metadata": {},
   "outputs": [],
   "source": [
    "sc = SparkContext.getOrCreate(conf=conf)\n",
    "spark = SparkSession(sc)\n",
    "spark"
   ]
  },
  {
   "cell_type": "code",
   "execution_count": null,
   "id": "0d589c3c-da04-4c82-89c0-46ab5700027c",
   "metadata": {},
   "outputs": [],
   "source": [
    "database = \"AdventureWorksDW2019\" #read data\n",
    "table = \"DimProduct\"\n",
    "password = os.environ['PGPASS']\n",
    "user = os.environ['PGUID']\n",
    "schema  = \"dbo\""
   ]
  },
  {
   "cell_type": "code",
   "execution_count": null,
   "id": "9dc3c1fe-571a-4ed7-a645-7a6f99c4d308",
   "metadata": {},
   "outputs": [],
   "source": [
    "jdbc_url = f'jdbc:sqlserver://localhost:1433;database={database};encrypt=true;trustServerCertificate=true;'"
   ]
  },
  {
   "cell_type": "code",
   "execution_count": null,
   "id": "1b4b9c74-090c-454b-ab34-7fe788d4f7af",
   "metadata": {},
   "outputs": [],
   "source": [
    "df = spark.read \\\n",
    "    .format(\"jdbc\") \\\n",
    "    .option(\"url\", jdbc_url) \\\n",
    "    .option(\"dbtable\", f\"{schema}.{table}\") \\\n",
    "    .option(\"user\", user) \\\n",
    "    .option(\"password\", password) \\\n",
    "    .option(\"driver\", \"com.microsoft.sqlserver.jdbc.SQLServerDriver\") \\\n",
    "    .load()"
   ]
  },
  {
   "cell_type": "code",
   "execution_count": null,
   "id": "c032e583-35ab-4321-bccf-a1c7396b50c7",
   "metadata": {},
   "outputs": [],
   "source": [
    "df.show()"
   ]
  },
  {
   "cell_type": "code",
   "execution_count": null,
   "id": "21343e62-c822-4aa0-9400-f177f326d40c",
   "metadata": {},
   "outputs": [],
   "source": [
    "df.limit(10).toPandas()"
   ]
  },
  {
   "cell_type": "code",
   "execution_count": null,
   "id": "b00caab1-a22a-44c0-82a8-1c2a899a3cea",
   "metadata": {},
   "outputs": [],
   "source": [
    "#rename column\n",
    "df = df.withColumnRenamed(\"EnglishProductName\",\"ProductName\")\n",
    "df.show()"
   ]
  },
  {
   "cell_type": "code",
   "execution_count": null,
   "id": "dce62c51-2642-4b7f-bd45-dd39237da142",
   "metadata": {},
   "outputs": [],
   "source": [
    "df.count()"
   ]
  },
  {
   "cell_type": "code",
   "execution_count": null,
   "id": "a1a2e8f1-f640-46f6-90a4-d75f6d9dd3e8",
   "metadata": {},
   "outputs": [],
   "source": [
    "#Select subset of columns\n",
    "df = df.select(\"ProductKey\", \"ProductName\", \"Color\")\n",
    "df.show()"
   ]
  },
  {
   "cell_type": "code",
   "execution_count": null,
   "id": "7febea51-bb87-4e7c-8682-8ac05cb70a62",
   "metadata": {},
   "outputs": [],
   "source": [
    "df.sort(\"ProductName\").show()"
   ]
  },
  {
   "cell_type": "code",
   "execution_count": null,
   "id": "d144b365-95aa-46bf-b094-1f6a7db83932",
   "metadata": {},
   "outputs": [],
   "source": [
    "#descending Sort Order\n",
    "from pyspark.sql import functions as F\n",
    "df.sort(F.desc(\"ProductName\")).show()"
   ]
  },
  {
   "cell_type": "code",
   "execution_count": null,
   "id": "a1e872f9-0b73-4c60-94d1-116269a9adbc",
   "metadata": {},
   "outputs": [],
   "source": [
    "df.printSchema()"
   ]
  },
  {
   "cell_type": "code",
   "execution_count": null,
   "id": "b12ae433-13db-4195-b73d-3112c3340b96",
   "metadata": {},
   "outputs": [],
   "source": [
    "df.select(\"ProductKey\", \"ProductName\").filter(\"ProductKey = 22\").show() #dataframe filter operation"
   ]
  },
  {
   "cell_type": "code",
   "execution_count": null,
   "id": "57fdc0f6-0ea7-40ee-bf6b-0f7917e97ca7",
   "metadata": {},
   "outputs": [],
   "source": [
    "df.select(df.ProductKey, df.ProductName).filter(\"ProductKey = 22\").show()"
   ]
  },
  {
   "cell_type": "code",
   "execution_count": null,
   "id": "b5694ede-29a4-4626-ae55-744e3ba5e5e3",
   "metadata": {},
   "outputs": [],
   "source": [
    "df.select(\"ProductKey\", \"ProductName\").filter(\"ProductName like '%helmet%'\").show()"
   ]
  },
  {
   "cell_type": "code",
   "execution_count": null,
   "id": "c2091cce-d910-4d7b-8a81-0f8cfc7f50d8",
   "metadata": {},
   "outputs": [],
   "source": [
    "df.filter((df.ProductName.like('%helmet%')) & (df.Color=='Black')).show()"
   ]
  },
  {
   "cell_type": "code",
   "execution_count": null,
   "id": "4ceb5981-7e36-480d-9110-5faa77c5c5b5",
   "metadata": {},
   "outputs": [],
   "source": [
    "#sql filter\n",
    "df.createOrReplaceTempView(\"Product\")\n",
    "spark.sql(\"select count(1) from Product\").show()"
   ]
  },
  {
   "cell_type": "code",
   "execution_count": null,
   "id": "65ffed8b-6623-4fb2-9b3f-5544d8f2a957",
   "metadata": {},
   "outputs": [],
   "source": [
    "spark.sql(\"select ProductKey, ProductName from Product where ProductKey = 22\").show()"
   ]
  },
  {
   "cell_type": "code",
   "execution_count": null,
   "id": "a912182b-99a3-43ac-b24c-45ce1276a31d",
   "metadata": {},
   "outputs": [],
   "source": [
    "spark.sql(\"select ProductKey, ProductName from Product where ProductName like '%helmet%'\").show()"
   ]
  },
  {
   "cell_type": "code",
   "execution_count": null,
   "id": "6b356c9d-c5cd-45d6-8378-47071c8fb20c",
   "metadata": {},
   "outputs": [],
   "source": [
    "#get the fact table with product sales transactions #create sales view\n",
    "sales = spark.read \\\n",
    "    .format(\"jdbc\") \\\n",
    "    .option(\"url\", jdbc_url) \\\n",
    "    .option(\"dbtable\", f\"dbo.FactInternetSales\") \\\n",
    "    .option(\"user\", user) \\\n",
    "    .option(\"password\", password) \\\n",
    "    .option(\"driver\", \"com.microsoft.sqlserver.jdbc.SQLServerDriver\") \\\n",
    "    .load()"
   ]
  },
  {
   "cell_type": "code",
   "execution_count": null,
   "id": "0ac4830d-a1db-4d95-b47c-0442579fd6aa",
   "metadata": {},
   "outputs": [],
   "source": [
    "sales.createOrReplaceTempView(\"sales\")\n",
    "sales.cache()"
   ]
  },
  {
   "cell_type": "code",
   "execution_count": null,
   "id": "1eebd9e7-dd72-4844-85c5-6e40947f5b0f",
   "metadata": {},
   "outputs": [],
   "source": [
    "#join product and sales\n",
    "spark.sql(\"\"\"\n",
    "SELECT \n",
    "    p.ProductName,\n",
    "    SUM(s.SalesAmount) AS SalesAmount\n",
    "FROM  Product p\n",
    "    Inner join sales s on p.ProductKey = s.ProductKey\n",
    "where ProductName like '%helmet%'\n",
    "Group by \n",
    "    p.ProductName\n",
    "order by \n",
    "    SUM(s.SalesAmount) desc\"\"\"\n",
    ").show()"
   ]
  },
  {
   "cell_type": "code",
   "execution_count": null,
   "id": "41f3e852-2727-40d4-a5a6-78dbecd0b37e",
   "metadata": {},
   "outputs": [],
   "source": [
    "#join 2 df\n",
    "salesjoined = sales.join(df, ['ProductKey'],how='inner')\n",
    "salesjoined.limit(10).toPandas()"
   ]
  },
  {
   "cell_type": "code",
   "execution_count": null,
   "id": "c5fd34af-f240-4c5f-b4ee-1c62b66f96f7",
   "metadata": {},
   "outputs": [],
   "source": [
    "#grouby usinf column alias\n",
    "salesjoined.groupBy([\"ProductName\",\"Color\"]).agg(\n",
    "    F.sum(\"SalesAmount\").alias(\"TotalSalesAmounted\"),\\\n",
    "    F.max(\"SalesAmount\").alias(\"MaxSalesAmount\")\\\n",
    "    ).show()"
   ]
  },
  {
   "cell_type": "code",
   "execution_count": null,
   "id": "40c23a47-715f-4cb4-ad85-30e62ebb380d",
   "metadata": {},
   "outputs": [],
   "source": [
    "saleswithNet = salesjoined.withColumn(\"NetSales\", F.col(\"SalesAmount\") - F.col(\"TaxAmt\"))\n",
    "saleswithNet.limit(10).toPandas()"
   ]
  },
  {
   "cell_type": "code",
   "execution_count": null,
   "id": "e5b1795d-26dd-47d8-b48c-3f07a3dd461b",
   "metadata": {},
   "outputs": [],
   "source": [
    "#Create a new column based on a condition-region\n",
    "saleswithNet = saleswithNet.withColumn(\n",
    "    'Region',\n",
    "    F.when((F.col(\"SalesTerritoryKey\") == 7), \"Europe\")\\\n",
    "    .when((F.col(\"SalesTerritoryKey\") == 8) , \"Europe\")\\\n",
    "    .when((F.col(\"SalesTerritoryKey\") == 9) , \"Pacific\")\\\n",
    "    .when((F.col(\"SalesTerritoryKey\") == 10) , \"Europe\")\\\n",
    "    .otherwise(\"Americas\")\n",
    ")\n",
    "saleswithNet.limit(10).toPandas()"
   ]
  },
  {
   "cell_type": "code",
   "execution_count": null,
   "id": "c7c8bcf5-dcc5-4ebe-89a2-6060e599a128",
   "metadata": {},
   "outputs": [],
   "source": [
    "#check distinct values\n",
    "saleswithNet.select('Region').distinct().collect()"
   ]
  },
  {
   "cell_type": "code",
   "execution_count": null,
   "id": "c334c801-7d5c-4689-a4f4-84502bdabdf9",
   "metadata": {},
   "outputs": [],
   "source": [
    "#replace null with 0\n",
    "from pyspark.sql.functions import when, lit\n",
    "saleswithNet = saleswithNet.withColumn('CarrierTrackingNumber', when(saleswithNet.CarrierTrackingNumber.isNull(), \n",
    "lit('0')).otherwise(saleswithNet.CarrierTrackingNumber))\n",
    "saleswithNet.limit(10).toPandas()"
   ]
  },
  {
   "cell_type": "code",
   "execution_count": null,
   "id": "ce224598-1be0-4061-be61-c958d074e88e",
   "metadata": {},
   "outputs": [],
   "source": [
    "saleswithNet=saleswithNet.drop(\"CustomerPONumber\") #drop col\n",
    "saleswithNet.limit(10).toPandas()"
   ]
  },
  {
   "cell_type": "code",
   "execution_count": null,
   "id": "eb2c0504-f857-440a-b562-37e7fb2d0208",
   "metadata": {},
   "outputs": [],
   "source": []
  }
 ],
 "metadata": {
  "kernelspec": {
   "display_name": "Python 3 (ipykernel)",
   "language": "python",
   "name": "python3"
  },
  "language_info": {
   "codemirror_mode": {
    "name": "ipython",
    "version": 3
   },
   "file_extension": ".py",
   "mimetype": "text/x-python",
   "name": "python",
   "nbconvert_exporter": "python",
   "pygments_lexer": "ipython3",
   "version": "3.12.5"
  }
 },
 "nbformat": 4,
 "nbformat_minor": 5
}
