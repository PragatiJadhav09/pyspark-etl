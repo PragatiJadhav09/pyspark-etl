{
 "cells": [
  {
   "cell_type": "code",
   "execution_count": 2,
   "id": "cf723906-51ea-4470-bb60-0538ceeabd26",
   "metadata": {},
   "outputs": [],
   "source": [
    "from pyspark import SparkContext, SparkConf\n",
    "from pyspark.sql import SparkSession, SQLContext\n",
    "import os\n",
    "import sys\n",
    "from pyspark.sql.functions import *"
   ]
  },
  {
   "cell_type": "code",
   "execution_count": 4,
   "id": "7c2641a2-4ab2-4fdd-971d-ef316d5011a6",
   "metadata": {},
   "outputs": [],
   "source": [
    "# set Java home\n",
    "os.environ[\"JAVA_HOME\"] = r\"C:\\Program Files\\Java\\jdk-18.0.2.1\""
   ]
  },
  {
   "cell_type": "code",
   "execution_count": 6,
   "id": "ba8cf1a3-3559-4d92-b0ee-cb99a7c7602b",
   "metadata": {},
   "outputs": [],
   "source": [
    "#set spark congif\n",
    "conf = SparkConf() \\\n",
    "    .setAppName(\"ETLPipeline\") \\\n",
    "    .setMaster(\"local\") \\\n",
    "    .set(\"spark.driver.extraClassPath\",\"G:/pyspark/*\")"
   ]
  },
  {
   "cell_type": "code",
   "execution_count": null,
   "id": "dccfc8a8-a2e9-472b-b9e1-2f5d9f7b5761",
   "metadata": {},
   "outputs": [],
   "source": [
    "sc = SparkContext.getOrCreate(conf=conf) #initiate spark session\n",
    "etl = SparkSession(sc)"
   ]
  },
  {
   "cell_type": "code",
   "execution_count": null,
   "id": "d9ece1f3-8b8d-4623-8037-de19b624b4a7",
   "metadata": {},
   "outputs": [],
   "source": [
    "#get password from environmnet var #it needs sql server \n",
    "pwd = os.environ['PGPASS']\n",
    "uid = os.environ['PGUID']\n",
    "#sql db details\n",
    "server = \"localhost\"\n",
    "src_db = \"AdventureWorksDW2019\"\n",
    "target_db = \"AdventureWorks\"\n",
    "src_driver = \"com.microsoft.sqlserver.jdbc.SQLServerDriver\"\n",
    "target_driver = \"org.postgresql.Driver\""
   ]
  },
  {
   "cell_type": "code",
   "execution_count": null,
   "id": "46e8835f-be61-448c-98fd-d5b66ec0cfa8",
   "metadata": {},
   "outputs": [],
   "source": [
    "#source connection\n",
    "src_url = f\"jdbc:sqlserver://{server}:1433;databaseName={src_db};user={uid};password={pwd};\"\n",
    "#target connection\n",
    "target_url = f\"jdbc:postgresql://{server}:5432/{target_db}?user={uid}&password={pwd}\""
   ]
  },
  {
   "cell_type": "code",
   "execution_count": null,
   "id": "7de5f9ed-3f62-453a-8981-c371bf43bbe2",
   "metadata": {},
   "outputs": [],
   "source": [
    "sql = \"\"\"select  t.name as table_name from sys.tables t \n",
    "where t.name in ('DimProduct','DimProductSubcategory','DimProductCategory','DimSalesTerritory','FactInternetSales') \"\"\""
   ]
  },
  {
   "cell_type": "code",
   "execution_count": null,
   "id": "5f6f25cf-a480-4a81-bf50-e22cde6ad468",
   "metadata": {},
   "outputs": [],
   "source": [
    "#test connection\n",
    "dfs=etl.read. \\\n",
    "    format(\"jdbc\"). \\\n",
    "    options(driver=src_driver, user=uid, password=pwd, url=src_url, query=sql). \\\n",
    "    load()\n",
    "dfs.show()"
   ]
  },
  {
   "cell_type": "code",
   "execution_count": null,
   "id": "9de0a773-3390-46bf-98d9-38681fa53f38",
   "metadata": {},
   "outputs": [],
   "source": [
    "data_collect = dfs.collect()\n",
    "#looping thorough each row of the dataframe\n",
    "for row in data_collect:\n",
    "    # while looping through each row printing the data of table_name\n",
    "    print(row[\"table_name\"])"
   ]
  },
  {
   "cell_type": "code",
   "execution_count": null,
   "id": "16b045f5-b790-4df7-9a25-5c1cf1f16c57",
   "metadata": {},
   "outputs": [],
   "source": [
    "def extract(): #extract source system data\n",
    "    try:\n",
    "        dfs=etl.read. \\\n",
    "            format(\"jdbc\"). \\\n",
    "            options(driver=src_driver,user=uid, password=pwd,url=src_url,query=sql). \\\n",
    "            load()\n",
    "        #get table names\n",
    "        data_collect = dfs.collect()\n",
    "        #looping thorough each row of the dataframe\n",
    "        for row in data_collect:\n",
    "            print(row[\"table_name\"])\n",
    "            tbl_name = row[\"table_name\"]\n",
    "            df = etl.read \\\n",
    "            .format(\"jdbc\") \\\n",
    "            .option(\"driver\", src_driver) \\\n",
    "            .option(\"user\", uid) \\\n",
    "            .option(\"password\", pwd) \\\n",
    "            .option(\"url\", src_url) \\\n",
    "            .option(\"dbtable\", f\"dbo.{tbl_name}\") \\\n",
    "            .load()\n",
    "            #print(df.show(10))\n",
    "            load(df, tbl_name)\n",
    "            print(\"Data loaded successfully\")\n",
    "    except Exception as e:\n",
    "        print(\"Data extract error: \" + str(e))"
   ]
  },
  {
   "cell_type": "code",
   "execution_count": null,
   "id": "436ff746-1077-49fb-8734-75e007afd565",
   "metadata": {},
   "outputs": [],
   "source": [
    "def load(df, tbl): #persist data in target db\n",
    "    try:\n",
    "        rows_imported = 0\n",
    "        print(f'importing rows {rows_imported} to {rows_imported + df.count()}... for table {tbl}')\n",
    "        df.write.mode(\"overwrite\") \\\n",
    "        .format(\"jdbc\") \\\n",
    "        .option(\"url\", target_url) \\\n",
    "        .option(\"user\", uid) \\\n",
    "        .option(\"password\", pwd) \\\n",
    "        .option(\"driver\", target_driver) \\\n",
    "        .option(\"dbtable\", \"src_\" + tbl) \\\n",
    "        .save()\n",
    "        print(\"Data imported successful\")\n",
    "        rows_imported += df.count()\n",
    "    except Exception as e:\n",
    "        print(\"Data load error: \" + str(e))"
   ]
  },
  {
   "cell_type": "code",
   "execution_count": null,
   "id": "d7972529-2929-4359-be77-1708c6d14ce2",
   "metadata": {},
   "outputs": [],
   "source": [
    "extract()"
   ]
  },
  {
   "cell_type": "code",
   "execution_count": null,
   "id": "b01c246b-92c8-4474-95ec-4dca248d2948",
   "metadata": {},
   "outputs": [],
   "source": []
  }
 ],
 "metadata": {
  "kernelspec": {
   "display_name": "Python 3 (ipykernel)",
   "language": "python",
   "name": "python3"
  },
  "language_info": {
   "codemirror_mode": {
    "name": "ipython",
    "version": 3
   },
   "file_extension": ".py",
   "mimetype": "text/x-python",
   "name": "python",
   "nbconvert_exporter": "python",
   "pygments_lexer": "ipython3",
   "version": "3.12.5"
  }
 },
 "nbformat": 4,
 "nbformat_minor": 5
}
